{
 "cells": [
  {
   "cell_type": "code",
   "execution_count": 1,
   "id": "31ff63f7-1ab1-4893-9bfc-623ff35c79e0",
   "metadata": {},
   "outputs": [],
   "source": [
    "from sklearn.model_selection import train_test_split\n",
    "from sklearn.metrics import accuracy_score, classification_report\n",
    "from sklearn.preprocessing import LabelEncoder\n"
   ]
  },
  {
   "cell_type": "code",
   "execution_count": 2,
   "id": "34da1db0-552f-4795-aad7-4146fcd343f1",
   "metadata": {},
   "outputs": [],
   "source": [
    "import torch\n",
    "from datasets import load_dataset"
   ]
  },
  {
   "cell_type": "code",
   "execution_count": 3,
   "id": "74a10b0e-6fe7-4da3-9315-6207c219c912",
   "metadata": {},
   "outputs": [],
   "source": [
    "import pandas as pd\n",
    "import numpy as np\n",
    "df = pd.read_csv(\"book_clean.csv\")"
   ]
  },
  {
   "cell_type": "code",
   "execution_count": 4,
   "id": "65368388-cf22-4fed-bac0-1da371468478",
   "metadata": {},
   "outputs": [],
   "source": [
    "category_mapping = {'Fiction' : \"Fiction\",\n",
    " 'Juvenile Fiction': \"Fiction\",\n",
    " 'Biography & Autobiography': \"Nonfiction\",\n",
    " 'History': \"Nonfiction\",\n",
    " 'Literary Criticism': \"Nonfiction\",\n",
    " 'Philosophy': \"Nonfiction\",\n",
    " 'Religion': \"Nonfiction\",\n",
    " 'Comics & Graphic Novels': \"Fiction\",\n",
    " 'Drama': \"Fiction\",\n",
    " 'Juvenile Nonfiction': \"Nonfiction\",\n",
    " 'Science': \"Nonfiction\",\n",
    " 'Poetry': \"Fiction\"}\n",
    "\n",
    "df[\"simple_categories\"] = df[\"categories\"].map(category_mapping)"
   ]
  },
  {
   "cell_type": "code",
   "execution_count": 5,
   "id": "be03f616-43db-493d-8032-6b9cdd1e7c2a",
   "metadata": {},
   "outputs": [],
   "source": [
    "df = df[df[\"simple_categories\"].isin([\"Fiction\", \"Nonfiction\"])].dropna(subset=[\"description\"])"
   ]
  },
  {
   "cell_type": "code",
   "execution_count": 6,
   "id": "fae51c99-f383-4e9a-93ac-643eddff374c",
   "metadata": {},
   "outputs": [],
   "source": [
    "le = LabelEncoder()\n",
    "df[\"label\"] = le.fit_transform(df[\"simple_categories\"])"
   ]
  },
  {
   "cell_type": "code",
   "execution_count": 7,
   "id": "3e4f245e-d4ff-42a9-956b-092cd9f56cea",
   "metadata": {},
   "outputs": [],
   "source": [
    "train_texts, val_texts, train_labels, val_labels = train_test_split(df[\"description\"], df[\"label\"], test_size=0.2, random_state=42)\n"
   ]
  },
  {
   "cell_type": "code",
   "execution_count": 8,
   "id": "e462ad7e-b141-45d6-8bbc-ce6e97dab544",
   "metadata": {},
   "outputs": [],
   "source": [
    "from transformers import BertTokenizer, BertForSequenceClassification, Trainer, TrainingArguments\n",
    "tokenizer = BertTokenizer.from_pretrained(\"bert-base-uncased\")"
   ]
  },
  {
   "cell_type": "code",
   "execution_count": 9,
   "id": "7af6a739-a4b0-4da1-a88a-2218efdf6490",
   "metadata": {},
   "outputs": [],
   "source": [
    "def tokenize(texts):\n",
    "    return tokenizer(texts.tolist(), padding=\"max_length\", truncation=True, max_length=128, return_tensors=\"pt\")\n",
    "\n",
    "train_encodings = tokenize(train_texts)\n",
    "val_encodings = tokenize(val_texts)\n"
   ]
  },
  {
   "cell_type": "code",
   "execution_count": 19,
   "id": "5960f2f2-35fc-439c-8895-352287e2cacb",
   "metadata": {},
   "outputs": [],
   "source": [
    "from torch.utils.data import Dataset,Subset\n",
    "import random\n",
    "\n",
    "class BookDataset(Dataset):\n",
    "    def __init__(self, encodings, labels):\n",
    "        self.encodings = encodings\n",
    "        self.labels = labels\n",
    "\n",
    "    def __len__(self):\n",
    "        return len(self.labels)\n",
    "\n",
    "    def __getitem__(self, idx):\n",
    "        return {\n",
    "            'input_ids': self.encodings['input_ids'][idx],\n",
    "            'attention_mask': self.encodings['attention_mask'][idx],\n",
    "            'labels': torch.tensor(self.labels[idx], dtype=torch.long)\n",
    "        }\n",
    "\n",
    "num_train_samples = 748\n",
    "num_val_samples = 186\n",
    "\n",
    "train_dataset_full = BookDataset(train_encodings, train_labels.tolist())\n",
    "val_dataset_full = BookDataset(val_encodings, val_labels.tolist())\n",
    "\n",
    "# Random indices\n",
    "train_indices = random.sample(range(len(train_dataset_full)), num_train_samples)\n",
    "val_indices = random.sample(range(len(val_dataset_full)), num_val_samples)\n",
    "\n",
    "# Subset datasets\n",
    "train_dataset = Subset(train_dataset_full, train_indices)\n",
    "val_dataset = Subset(val_dataset_full, val_indices)"
   ]
  },
  {
   "cell_type": "code",
   "execution_count": 20,
   "id": "dba5dc58-fdb2-423d-977c-d771b3411c23",
   "metadata": {},
   "outputs": [
    {
     "name": "stderr",
     "output_type": "stream",
     "text": [
      "Some weights of BertForSequenceClassification were not initialized from the model checkpoint at bert-base-uncased and are newly initialized: ['classifier.bias', 'classifier.weight']\n",
      "You should probably TRAIN this model on a down-stream task to be able to use it for predictions and inference.\n"
     ]
    }
   ],
   "source": [
    "model = BertForSequenceClassification.from_pretrained('bert-base-uncased', num_labels=len(le.classes_))\n"
   ]
  },
  {
   "cell_type": "code",
   "execution_count": 21,
   "id": "634cda44-25b3-41fe-bc35-cfae57ee3e9c",
   "metadata": {},
   "outputs": [],
   "source": [
    "from transformers import TrainingArguments\n",
    "\n",
    "training_args = TrainingArguments(\n",
    "    output_dir=\"./results\",\n",
    "    num_train_epochs=1,                        \n",
    "    per_device_train_batch_size=2,             \n",
    "    per_device_eval_batch_size=2,\n",
    "    logging_dir=\"./logs\",\n",
    "    logging_steps=10,\n",
    "    eval_strategy=\"epoch\",\n",
    "    save_strategy=\"epoch\",\n",
    "    load_best_model_at_end=True,\n",
    ")\n"
   ]
  },
  {
   "cell_type": "code",
   "execution_count": 27,
   "id": "d9c86b9e-3905-406d-99fa-096756c0b335",
   "metadata": {},
   "outputs": [],
   "source": [
    "def compute_metrics(p):\n",
    "    logits, labels = p\n",
    "    preds = torch.argmax(torch.tensor(logits), axis=1).numpy()\n",
    "    return {\"accuracy\": accuracy_score(labels, preds)}\n",
    "    "
   ]
  },
  {
   "cell_type": "code",
   "execution_count": 28,
   "id": "c608ea3e-3b19-4bbf-903e-16e4bd2697b0",
   "metadata": {},
   "outputs": [
    {
     "name": "stderr",
     "output_type": "stream",
     "text": [
      "C:\\Users\\bhard\\AppData\\Local\\Temp\\ipykernel_13104\\2324135689.py:1: FutureWarning: `tokenizer` is deprecated and will be removed in version 5.0.0 for `Trainer.__init__`. Use `processing_class` instead.\n",
      "  trainer = Trainer(\n"
     ]
    }
   ],
   "source": [
    "trainer = Trainer(\n",
    "    model=model,\n",
    "    args=training_args,\n",
    "    train_dataset=train_dataset,\n",
    "    eval_dataset=val_dataset,\n",
    "    tokenizer=tokenizer,\n",
    "    compute_metrics=compute_metrics\n",
    "    \n",
    ")"
   ]
  },
  {
   "cell_type": "code",
   "execution_count": 29,
   "id": "e5272167-7660-46d7-9044-195255a7ae05",
   "metadata": {
    "scrolled": true
   },
   "outputs": [
    {
     "data": {
      "text/html": [
       "\n",
       "    <div>\n",
       "      \n",
       "      <progress value='374' max='374' style='width:300px; height:20px; vertical-align: middle;'></progress>\n",
       "      [374/374 27:11, Epoch 1/1]\n",
       "    </div>\n",
       "    <table border=\"1\" class=\"dataframe\">\n",
       "  <thead>\n",
       " <tr style=\"text-align: left;\">\n",
       "      <th>Epoch</th>\n",
       "      <th>Training Loss</th>\n",
       "      <th>Validation Loss</th>\n",
       "      <th>Accuracy</th>\n",
       "    </tr>\n",
       "  </thead>\n",
       "  <tbody>\n",
       "    <tr>\n",
       "      <td>1</td>\n",
       "      <td>0.758500</td>\n",
       "      <td>0.483407</td>\n",
       "      <td>0.913978</td>\n",
       "    </tr>\n",
       "  </tbody>\n",
       "</table><p>"
      ],
      "text/plain": [
       "<IPython.core.display.HTML object>"
      ]
     },
     "metadata": {},
     "output_type": "display_data"
    },
    {
     "data": {
      "text/plain": [
       "TrainOutput(global_step=374, training_loss=0.3119231922250679, metrics={'train_runtime': 1635.6322, 'train_samples_per_second': 0.457, 'train_steps_per_second': 0.229, 'total_flos': 49201767352320.0, 'train_loss': 0.3119231922250679, 'epoch': 1.0})"
      ]
     },
     "execution_count": 29,
     "metadata": {},
     "output_type": "execute_result"
    }
   ],
   "source": [
    "trainer.train()"
   ]
  },
  {
   "cell_type": "code",
   "execution_count": 30,
   "id": "389f660d-6b11-4e42-8981-29464f948e86",
   "metadata": {},
   "outputs": [
    {
     "data": {
      "text/plain": [
       "('bert-book-classifier\\\\tokenizer_config.json',\n",
       " 'bert-book-classifier\\\\special_tokens_map.json',\n",
       " 'bert-book-classifier\\\\vocab.txt',\n",
       " 'bert-book-classifier\\\\added_tokens.json')"
      ]
     },
     "execution_count": 30,
     "metadata": {},
     "output_type": "execute_result"
    }
   ],
   "source": [
    "# Save the trained model and tokenizer\n",
    "model.save_pretrained(\"bert-book-classifier\")\n",
    "tokenizer.save_pretrained(\"bert-book-classifier\")\n"
   ]
  },
  {
   "cell_type": "code",
   "execution_count": 32,
   "id": "b0181ce9-25da-45d7-ad74-0cc47dccc42c",
   "metadata": {},
   "outputs": [
    {
     "name": "stderr",
     "output_type": "stream",
     "text": [
      "C:\\Users\\bhard\\anaconda3\\envs\\tf_transformers\\lib\\site-packages\\transformers\\utils\\generic.py:271: FutureWarning: The input object of type 'Tensor' is an array-like implementing one of the corresponding protocols (`__array__`, `__array_interface__` or `__array_struct__`); but not a sequence (or 0-D). In the future, this object will be coerced as if it was first converted using `np.array(obj)`. To retain the old behaviour, you have to either modify the type 'Tensor', or assign to an empty array created with `np.empty(correct_shape, dtype=object)`.\n",
      "  arr = np.array(obj)\n",
      "C:\\Users\\bhard\\anaconda3\\envs\\tf_transformers\\lib\\site-packages\\transformers\\utils\\generic.py:271: VisibleDeprecationWarning: Creating an ndarray from ragged nested sequences (which is a list-or-tuple of lists-or-tuples-or ndarrays with different lengths or shapes) is deprecated. If you meant to do this, you must specify 'dtype=object' when creating the ndarray.\n",
      "  arr = np.array(obj)\n"
     ]
    },
    {
     "data": {
      "text/html": [],
      "text/plain": [
       "<IPython.core.display.HTML object>"
      ]
     },
     "metadata": {},
     "output_type": "display_data"
    },
    {
     "name": "stdout",
     "output_type": "stream",
     "text": [
      "Test Accuracy: 0.9139784946236559\n",
      "Classification Report:\n",
      "               precision    recall  f1-score   support\n",
      "\n",
      "           0       0.91      0.98      0.94       135\n",
      "           1       0.93      0.75      0.83        51\n",
      "\n",
      "    accuracy                           0.91       186\n",
      "   macro avg       0.92      0.86      0.88       186\n",
      "weighted avg       0.91      0.91      0.91       186\n",
      "\n"
     ]
    }
   ],
   "source": [
    "test_results = trainer.predict(val_dataset)\n",
    "\n",
    "test_preds = test_results.predictions\n",
    "test_labels = test_results.label_ids\n",
    "\n",
    "pred_labels = np.argmax(test_preds, axis=1)\n",
    "\n",
    "from sklearn.metrics import accuracy_score, classification_report\n",
    "\n",
    "print(\"Test Accuracy:\", accuracy_score(test_labels, pred_labels))\n",
    "print(\"Classification Report:\\n\", classification_report(test_labels, pred_labels))\n"
   ]
  },
  {
   "cell_type": "code",
   "execution_count": 33,
   "id": "1c4b74f6-2649-46dc-8c0a-80ad7a02baf5",
   "metadata": {},
   "outputs": [
    {
     "name": "stdout",
     "output_type": "stream",
     "text": [
      "Predicted category: Fiction\n"
     ]
    }
   ],
   "source": []
  },
  {
   "cell_type": "code",
   "execution_count": null,
   "id": "1f0ef250-c0da-42cc-b40b-ba25ea47c6ea",
   "metadata": {},
   "outputs": [],
   "source": []
  }
 ],
 "metadata": {
  "kernelspec": {
   "display_name": "Python (tf_transformers)",
   "language": "python",
   "name": "tf_transformers"
  },
  "language_info": {
   "codemirror_mode": {
    "name": "ipython",
    "version": 3
   },
   "file_extension": ".py",
   "mimetype": "text/x-python",
   "name": "python",
   "nbconvert_exporter": "python",
   "pygments_lexer": "ipython3",
   "version": "3.10.16"
  }
 },
 "nbformat": 4,
 "nbformat_minor": 5
}
