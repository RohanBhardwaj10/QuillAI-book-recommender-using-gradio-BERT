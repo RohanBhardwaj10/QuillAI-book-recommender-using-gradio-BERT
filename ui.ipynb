{
 "cells": [
  {
   "cell_type": "code",
   "execution_count": 1,
   "id": "46f1bdb1-a343-42e9-aeeb-905983eec2f6",
   "metadata": {},
   "outputs": [],
   "source": [
    "import gradio as gr\n",
    "import pandas as pd\n",
    "import torch\n",
    "from transformers import BertTokenizer, BertForSequenceClassification"
   ]
  },
  {
   "cell_type": "code",
   "execution_count": 2,
   "id": "35977155-17d3-4e84-a23d-2af341adc097",
   "metadata": {},
   "outputs": [],
   "source": [
    "model_path = \"bert-book-classifier\"\n",
    "tokenizer = BertTokenizer.from_pretrained(model_path)\n",
    "model = BertForSequenceClassification.from_pretrained(model_path)"
   ]
  },
  {
   "cell_type": "code",
   "execution_count": 3,
   "id": "edf58c84-cd80-4b26-b406-e6470074f747",
   "metadata": {},
   "outputs": [],
   "source": [
    "df = pd.read_csv(\"book_clean.csv\")\n"
   ]
  },
  {
   "cell_type": "code",
   "execution_count": 4,
   "id": "655e9039-bf50-46ac-8230-5f0809b4678d",
   "metadata": {},
   "outputs": [],
   "source": [
    "category_mapping = {'Fiction' : \"Fiction\",\n",
    " 'Juvenile Fiction': \"Fiction\",\n",
    " 'Biography & Autobiography': \"Nonfiction\",\n",
    " 'History': \"Nonfiction\",\n",
    " 'Literary Criticism': \"Nonfiction\",\n",
    " 'Philosophy': \"Nonfiction\",\n",
    " 'Religion': \"Nonfiction\",\n",
    " 'Comics & Graphic Novels': \"Fiction\",\n",
    " 'Drama': \"Fiction\",\n",
    " 'Juvenile Nonfiction': \"Nonfiction\",\n",
    " 'Science': \"Nonfiction\",\n",
    " 'Poetry': \"Fiction\"}\n",
    "\n",
    "df[\"simple_categories\"] = df[\"categories\"].map(category_mapping)"
   ]
  },
  {
   "cell_type": "code",
   "execution_count": 5,
   "id": "e02f2c2d-6b6f-4b3c-a0b0-86487813126a",
   "metadata": {},
   "outputs": [],
   "source": [
    "df = df[df[\"simple_categories\"].isin([\"Fiction\", \"Nonfiction\"])].dropna(subset=[\"description\"])"
   ]
  },
  {
   "cell_type": "code",
   "execution_count": 6,
   "id": "c0c4c7c6-3748-4bec-9b13-5810277ce5d2",
   "metadata": {},
   "outputs": [],
   "source": [
    "def classify_description(desc):\n",
    "    inputs = tokenizer(desc, return_tensors=\"pt\", truncation=True, padding=True)\n",
    "    with torch.no_grad():\n",
    "        outputs = model(**inputs)\n",
    "    pred = torch.argmax(outputs.logits, dim=1).item()\n",
    "    return \"Fiction\" if pred == 1 else \"Nonfiction\""
   ]
  },
  {
   "cell_type": "code",
   "execution_count": 7,
   "id": "050d885b-49a4-4773-956c-b3bcff2fb347",
   "metadata": {},
   "outputs": [],
   "source": [
    "def recommend_books(description, category_choice):\n",
    "    if category_choice == \"All\":\n",
    "        predicted_category = classify_description(description)\n",
    "    else:\n",
    "        predicted_category = category_choice\n",
    "\n",
    "    filtered_books = df[df['simple_categories'].str.lower() == predicted_category.lower()].copy()\n",
    "\n",
    "    # Fallback for missing thumbnails\n",
    "    filtered_books['thumbnail'] = filtered_books['thumbnail'].apply(\n",
    "        lambda x: x if isinstance(x, str) and x.strip() else \"cover-not-found.jpg\"\n",
    "    )\n",
    "\n",
    "    # Fallback for missing titles\n",
    "    filtered_books['title'] = filtered_books['title'].fillna(\"Untitled\")\n",
    "\n",
    "    # Prepare gallery and book list\n",
    "    gallery_data = [(row['thumbnail'], row['title']) for _, row in filtered_books.iterrows()]\n",
    "    book_list = filtered_books.to_dict(orient=\"records\")\n",
    "\n",
    "    return predicted_category, gallery_data, book_list\n"
   ]
  },
  {
   "cell_type": "code",
   "execution_count": 8,
   "id": "9c90676e-f451-406a-bdb8-bdb9968766cf",
   "metadata": {},
   "outputs": [],
   "source": [
    "def show_details(evt: gr.SelectData, book_list):\n",
    "    book = book_list[evt.index]\n",
    "    return gr.Image.update(value=book[\"thumbnail\"]), gr.Text.update(value=f\"{book['bookname']}\\n\\n{book['desc']}\")\n"
   ]
  },
  {
   "cell_type": "code",
   "execution_count": 12,
   "id": "f77f7e3f-ef2c-45ab-824d-8734b44a5a0f",
   "metadata": {},
   "outputs": [],
   "source": [
    "with gr.Blocks() as demo:\n",
    "    gr.Markdown(\"##  🪶QuillAI : Book Recommender\")\n",
    "\n",
    "    with gr.Row():\n",
    "        description = gr.Textbox(label=\"Enter a book description\")\n",
    "        category = gr.Dropdown([\"All\", \"Fiction\", \"Nonfiction\"], value=\"All\", label=\"Select a category\")\n",
    "\n",
    "    predict_btn = gr.Button(\"Find recommendations\")\n",
    "    predicted_category = gr.Textbox(label=\"Predicted Category\", interactive=False)\n",
    "\n",
    "    gallery = gr.Gallery(label=\"Recommendations\", columns=4)\n",
    "    \n",
    "\n",
    "    book_state = gr.State()\n",
    "\n",
    "    predict_btn.click(fn=recommend_books, inputs=[description, category], outputs=[predicted_category, gallery, book_state])\n",
    "    gallery.select(fn=show_details, inputs=[book_state], outputs=[book_image, book_info])"
   ]
  },
  {
   "cell_type": "code",
   "execution_count": 13,
   "id": "1222a154-20f4-492b-94eb-3134caf77d7d",
   "metadata": {},
   "outputs": [
    {
     "name": "stdout",
     "output_type": "stream",
     "text": [
      "* Running on local URL:  http://127.0.0.1:7861\n",
      "* Running on public URL: https://03b9be91ecd029d836.gradio.live\n",
      "\n",
      "This share link expires in 1 week. For free permanent hosting and GPU upgrades, run `gradio deploy` from the terminal in the working directory to deploy to Hugging Face Spaces (https://huggingface.co/spaces)\n"
     ]
    },
    {
     "data": {
      "text/html": [
       "<div><iframe src=\"https://03b9be91ecd029d836.gradio.live\" width=\"100%\" height=\"500\" allow=\"autoplay; camera; microphone; clipboard-read; clipboard-write;\" frameborder=\"0\" allowfullscreen></iframe></div>"
      ],
      "text/plain": [
       "<IPython.core.display.HTML object>"
      ]
     },
     "metadata": {},
     "output_type": "display_data"
    },
    {
     "data": {
      "text/plain": []
     },
     "execution_count": 13,
     "metadata": {},
     "output_type": "execute_result"
    }
   ],
   "source": [
    "demo.launch(share=True)"
   ]
  },
  {
   "cell_type": "code",
   "execution_count": null,
   "id": "b8654c2d-5f71-465c-a7cd-d52b0c3dc273",
   "metadata": {},
   "outputs": [],
   "source": []
  }
 ],
 "metadata": {
  "kernelspec": {
   "display_name": "Python (tf_transformers)",
   "language": "python",
   "name": "tf_transformers"
  },
  "language_info": {
   "codemirror_mode": {
    "name": "ipython",
    "version": 3
   },
   "file_extension": ".py",
   "mimetype": "text/x-python",
   "name": "python",
   "nbconvert_exporter": "python",
   "pygments_lexer": "ipython3",
   "version": "3.10.16"
  }
 },
 "nbformat": 4,
 "nbformat_minor": 5
}
